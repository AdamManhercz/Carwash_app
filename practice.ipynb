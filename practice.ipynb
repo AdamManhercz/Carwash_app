class Next:

    def next_program(self):
        print("Your washing program is over!")
        next = input("Would you like to continue? Y/N: ")
        while next not in {"Y", "N", "y", "n"}:
            next = input("Please insert the right letter! Would you like to continue? Y/N:")